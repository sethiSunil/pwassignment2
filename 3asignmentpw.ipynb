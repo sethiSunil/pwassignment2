{
 "cells": [
  {
   "cell_type": "code",
   "execution_count": 28,
   "id": "bfd812d3-044d-44aa-9c96-0ea41c02b0f8",
   "metadata": {},
   "outputs": [
    {
     "name": "stdout",
     "output_type": "stream",
     "text": [
      "50 is greater than  10\n",
      "15 is less than  100\n",
      "for loop  0\n",
      "for loop  1\n",
      "for loop  2\n",
      "for loop  3\n",
      "for loop  4\n",
      "while loop 1\n",
      "while loop 2\n",
      "while loop 3\n",
      "while loop 4\n",
      "while loop 5\n",
      "while loop 6\n",
      "while loop 7\n",
      "hello ,sunil, how are you ?\n"
     ]
    }
   ],
   "source": [
    "# 1. Explain the significance of Python keywords and provide examples of five keywords\n",
    "\n",
    "\"\"\"\n",
    "Python keywords are reserved words that have special meanings and purposes within the language.\n",
    "These keywords cannot be used as identifiers (such as variable names or function names) \n",
    "because they are already predefined for specific operations or functionalities.\n",
    "\"\"\"\n",
    "# Five examples of keywords are :-\n",
    "\n",
    "# (1). 'if'\n",
    "x = 50\n",
    "if x > 10:\n",
    "    print(x ,\"is greater than \" ,10)\n",
    "\n",
    "# (2). 'else'\n",
    "x= 15\n",
    "if x > 100:\n",
    "    print(x ,\"is greater than \" ,100)\n",
    "else:\n",
    "    print(x ,\"is less than \" ,100)\n",
    "\n",
    "# (3). 'for'\n",
    "\n",
    "for i in range(5):\n",
    "    print( \"for loop \",i)\n",
    "\n",
    "# (4). 'while'\n",
    "\n",
    "var = 1\n",
    "while var < 8:\n",
    "  print(\"while loop\",var)\n",
    "  var+= 1\n",
    "\n",
    "  # (5). 'function'\n",
    "\n",
    "def greet(name):\n",
    "    print(f\"hello ,{name}, how are you ?\")\n",
    "    \n",
    "greet(\"sunil\")"
   ]
  },
  {
   "cell_type": "code",
   "execution_count": 32,
   "id": "c895e9db-988b-46ff-99a5-071869e9b78a",
   "metadata": {},
   "outputs": [],
   "source": [
    "# 2.  Describe the rules for defining identifiers in Python and provide an example\n",
    "\n",
    "# Here are some rules for defining identifiers in Python:-\n",
    "\n",
    "\"\"\"\n",
    "1.Identifiers must start with a letter or an underscore.\n",
    "2.Identifiers cannot start with a digit.\n",
    "3.Identifiers can contain letters, digits, and underscores.\n",
    "4.Identifiers are case-sensitive.\n",
    "5.Identifiers cannot be a keyword or a built-in function name.\n",
    "6.Identifiers should be descriptive and meaningful.\n",
    "\"\"\"\n",
    "# Here's an example of a valid identifier in Python:\n",
    "\n",
    "# Example:\n",
    "\n",
    "my_variable = 10 # valid\n",
    "another_variable = \"Hello\" # valid\n",
    "\n",
    "#  Here's an example of a invalid identifier in Python:\n",
    "\n",
    "# 2my-variable = 10  # Invalid identifier\n",
    "# 5invalid_identifier = 45 # ivalid identifier\n",
    "# for = 5  #  invalid  ,\"for\" is a reserved keyword"
   ]
  },
  {
   "cell_type": "code",
   "execution_count": 1,
   "id": "e059c1df-7298-44c4-9ad1-5d15cd44560f",
   "metadata": {},
   "outputs": [
    {
     "name": "stdout",
     "output_type": "stream",
     "text": [
      "Hello, i am a  single line comment\n",
      "Hello, i am a  multi line comment\n"
     ]
    }
   ],
   "source": [
    "# 3.What are comments in Python, and why are they useful ? Provide an example \n",
    "\n",
    "   # What are comments in Python are :-\n",
    "\"\"\"\n",
    "In Python, a comment is a piece of text within the code that is not executed by the interpreter. \n",
    "It is used to add explanations, notes, or annotations to the code for the benefit of human readers.\n",
    "\"\"\"\n",
    "    \n",
    "    \n",
    " #comements use for :-    \n",
    "    \n",
    "\"\"\" \n",
    "a) Comments can be used to explain Python code.\n",
    "\n",
    "b) Comments can be used to make the code more readable.\n",
    "\n",
    "c) Comments can be used to prevent execution when testing code.\n",
    "\"\"\"\n",
    "\n",
    "# Example of comments \n",
    "\n",
    "# 1. sigle line comments :-\n",
    "\n",
    "# This is a single-line comment\n",
    "print(\"Hello, i am a  single line comment\")  # This line prints \"Hello, i am a  single line comment\n",
    "\n",
    "# 2. multi line comment :-\n",
    "\n",
    "\"\"\"\n",
    "This is a multi-line comment.\n",
    "It spans multiple lines.\n",
    "\"\"\"\n",
    "print(\"Hello, i am a  multi line comment\")  # This line prints \"This is not a comment\"\n"
   ]
  },
  {
   "cell_type": "code",
   "execution_count": 2,
   "id": "3d3c929d-0f2b-4cb1-911e-e64447e08f3d",
   "metadata": {},
   "outputs": [
    {
     "name": "stdout",
     "output_type": "stream",
     "text": [
      "Five is greater than two\n",
      "This line is part of the if-block.\n"
     ]
    },
    {
     "data": {
      "text/plain": [
       "'\\nif 5 > 2:\\nprint(\"Five is greater than two!\")  # This line is inside the if-block.\\n\\nprint(\"This line is not part of the if-block.\")\\n'"
      ]
     },
     "execution_count": 2,
     "metadata": {},
     "output_type": "execute_result"
    }
   ],
   "source": [
    "# 4. what is proper indentation important in python ?\n",
    "\n",
    "\"\"\"\n",
    "Proper indentation is crucial in Python because it defines the scope of the code blocks \n",
    "and is used to indicate what code belongs to what control structure \n",
    "\"\"\"\n",
    "\n",
    "  # Here's an example to illustrate the importance of indentation:\n",
    "\n",
    "if 5 > 2:\n",
    "    print(\"Five is greater than two\")\n",
    "    print(\"This line is part of the if-block.\")\n",
    "    \n",
    "    \n",
    "  # However, if you don't use proper indentation, like this: \n",
    "\n",
    "\"\"\"\n",
    "if 5 > 2:\n",
    "print(\"Five is greater than two!\")  # This line is inside the if-block.\n",
    "\n",
    "print(\"This line is not part of the if-block.\")\n",
    "\"\"\"\n"
   ]
  },
  {
   "cell_type": "code",
   "execution_count": 6,
   "id": "afb54b53-4b9b-4d6b-a966-20999985d45b",
   "metadata": {},
   "outputs": [
    {
     "ename": "IndentationError",
     "evalue": "expected an indented block after 'if' statement on line 8 (3042316775.py, line 9)",
     "output_type": "error",
     "traceback": [
      "\u001b[0;36m  Cell \u001b[0;32mIn[6], line 9\u001b[0;36m\u001b[0m\n\u001b[0;31m    print(\"Five is greater than two!\")\u001b[0m\n\u001b[0m    ^\u001b[0m\n\u001b[0;31mIndentationError\u001b[0m\u001b[0;31m:\u001b[0m expected an indented block after 'if' statement on line 8\n"
     ]
    }
   ],
   "source": [
    "# 5. What happens if indentation is incorrect in Python ?\n",
    "\n",
    "\"\"\"\n",
    "If the indentation is incorrect in Python, \n",
    "you will encounter an ' IndentationError'\n",
    "\n",
    "\"\"\"\n",
    "\n",
    "   # example when indentation is incorrect\n",
    "\n",
    "if 5 > 2:\n",
    "print(\"Five is greater than two!\")\n",
    "print(\"This line should be indented.\")\n",
    "\n",
    "print(\"This line is not part of the if-block.\")\n",
    "\n",
    "  # To fix the error, you need to properly indent the lines within the block\n",
    "\n",
    "if 5 > 2:\n",
    "    print(\"Five is greater than two!\")\n",
    "    print(\"This line is part of the if-block.\")\n",
    "\n",
    "print(\"This line is not part of the if-block.\")"
   ]
  },
  {
   "cell_type": "code",
   "execution_count": 1,
   "id": "e98d4520-9127-4072-86a4-a8a61548b4a0",
   "metadata": {},
   "outputs": [
    {
     "name": "stdout",
     "output_type": "stream",
     "text": [
      "30\n",
      "x is not greater than 10\n"
     ]
    }
   ],
   "source": [
    "# 6. Differentiate  between expression and statement in Python with examples ?\n",
    "\n",
    "     # expression\n",
    "\"\"\"\n",
    "An expression is a piece of code that results in a value.\n",
    "Expressions can be used as part of statements, or they can stand alone. \n",
    "\"\"\"\n",
    "\n",
    "# Example\n",
    "x = 10\n",
    "y = 20\n",
    "sum = x + y  # produces the value 30\n",
    "print(sum)\n",
    "\n",
    "     # statement\n",
    "\"\"\"\n",
    "A statement is a command that performs an action.\n",
    "A statement is a unit of code that performs an action or task.\n",
    "Statements do not produce values; instead, they modify the state of the program in some way.\n",
    "\"\"\"\n",
    " # Example\n",
    "    \n",
    " # 1) Assignment statement:\n",
    "\n",
    "x = 5\n",
    "\n",
    " #2) Conditional statement (if-else):\n",
    "    \n",
    "if x > 10:\n",
    "     print(\"x is greater than 10\")\n",
    "        \n",
    "else:\n",
    "    print(\"x is not greater than 10\")\n"
   ]
  },
  {
   "cell_type": "code",
   "execution_count": null,
   "id": "d6bab11f-1d4a-49f1-b6c8-23cdb67185ee",
   "metadata": {},
   "outputs": [],
   "source": []
  }
 ],
 "metadata": {
  "kernelspec": {
   "display_name": "Python 3 (ipykernel)",
   "language": "python",
   "name": "python3"
  },
  "language_info": {
   "codemirror_mode": {
    "name": "ipython",
    "version": 3
   },
   "file_extension": ".py",
   "mimetype": "text/x-python",
   "name": "python",
   "nbconvert_exporter": "python",
   "pygments_lexer": "ipython3",
   "version": "3.10.8"
  }
 },
 "nbformat": 4,
 "nbformat_minor": 5
}
